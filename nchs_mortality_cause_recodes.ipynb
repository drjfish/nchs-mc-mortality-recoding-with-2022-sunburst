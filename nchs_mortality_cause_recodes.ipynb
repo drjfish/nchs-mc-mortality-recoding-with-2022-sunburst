{
 "cells": [
  {
   "cell_type": "markdown",
   "metadata": {},
   "source": [
    "In this notebook, NCHS Multiple Cause-of-Death mortality data recodes used in 2016-2022 data are compared, specifically: 39_cause_recode, 113_cause_recode, and 358_cause_recode. The primary key with which these \"underlying cause of death\" recodes are collated is the singular ICD10 code provided for each death record."
   ]
  },
  {
   "cell_type": "code",
   "execution_count": 8,
   "metadata": {},
   "outputs": [],
   "source": [
    "# Import libraries\n",
    "import pandas as pd\n",
    "import os\n",
    "\n",
    "# Set working directory\n",
    "os.chdir('D:/d4ph/nchs-death')\n",
    "\n",
    "# Import cleaned mortality data from each year (2016-2022)\n",
    "mort_codes_2016 = pd.read_csv('mort2016_cleaned.csv', usecols=['icd10', '39_cause_recode', '113_cause_recode', '358_cause_recode'])\n",
    "mort_codes_2017 = pd.read_csv('mort2017_cleaned.csv', usecols=['icd10', '39_cause_recode', '113_cause_recode', '358_cause_recode'])\n",
    "mort_codes_2018 = pd.read_csv('mort2018_cleaned.csv', usecols=['icd10', '39_cause_recode', '113_cause_recode', '358_cause_recode'])\n",
    "mort_codes_2019 = pd.read_csv('mort2019_cleaned.csv', usecols=['icd10', '39_cause_recode', '113_cause_recode', '358_cause_recode'])\n",
    "mort_codes_2020 = pd.read_csv('mort2020_cleaned.csv', usecols=['icd10', '39_cause_recode', '113_cause_recode', '358_cause_recode'])\n",
    "mort_codes_2021 = pd.read_csv('mort2021_cleaned.csv', usecols=['icd10', '39_cause_recode', '113_cause_recode', '358_cause_recode'])\n",
    "mort_codes_2022 = pd.read_csv('mort2022_cleaned.csv', usecols=['icd10', '39_cause_recode', '113_cause_recode', '358_cause_recode'])"
   ]
  },
  {
   "cell_type": "code",
   "execution_count": 9,
   "metadata": {},
   "outputs": [],
   "source": [
    "# Concatenate all years into one dataframe\n",
    "mort_codes_all = pd.concat([mort_codes_2016, mort_codes_2017, mort_codes_2018, mort_codes_2019, mort_codes_2020, mort_codes_2021, mort_codes_2022])\n",
    "\n",
    "# Keep only unique rows\n",
    "mort_codes_all = mort_codes_all.drop_duplicates()\n",
    "\n",
    "# Export to CSV\n",
    "mort_codes_all.to_csv('mort_codes_all.csv', index=False)"
   ]
  },
  {
   "cell_type": "code",
   "execution_count": null,
   "metadata": {},
   "outputs": [
    {
     "name": "stdout",
     "output_type": "stream",
     "text": [
      "(5269, 4)\n",
      "  icd10  358_cause_recode  113_cause_recode  39_cause_recode\n",
      "0  K566               293               111               37\n",
      "1   I64               238                70               24\n",
      "2  C189                81                23                6\n",
      "3  K767               301               111               37\n",
      "4  E785               173               111               37\n"
     ]
    }
   ],
   "source": [
    "# Print shape of mort_codes_all\n",
    "print(mort_codes_all.shape)\n",
    "\n",
    "# Print first 5 rows of mort_codes_all\n",
    "print(mort_codes_all.head())"
   ]
  },
  {
   "cell_type": "code",
   "execution_count": 1,
   "metadata": {},
   "outputs": [
    {
     "data": {
      "text/html": [
       "\n",
       "        <iframe\n",
       "            width=\"100%\"\n",
       "            height=\"650\"\n",
       "            src=\"http://127.0.0.1:8050/\"\n",
       "            frameborder=\"0\"\n",
       "            allowfullscreen\n",
       "            \n",
       "        ></iframe>\n",
       "        "
      ],
      "text/plain": [
       "<IPython.lib.display.IFrame at 0x222d20e1ac0>"
      ]
     },
     "metadata": {},
     "output_type": "display_data"
    }
   ],
   "source": [
    "import pandas as pd\n",
    "from dash import Dash, dcc, html, dash_table, Input, Output\n",
    "import plotly.graph_objects as go\n",
    "from dash.exceptions import PreventUpdate\n",
    "\n",
    "# Load the CSV data\n",
    "file_path = 'mort_codes_all.csv'\n",
    "mort_data = pd.read_csv(\"mort_codes_all.csv\")\n",
    "\n",
    "# Initialize the Dash app\n",
    "app = Dash(__name__)\n",
    "\n",
    "# Define the layout\n",
    "app.layout = html.Div([\n",
    "    html.H1(\"ICD-10 Recode Mapping Explorer\"),\n",
    "    \n",
    "    # Dropdown for selecting recode map or ICD-10 code\n",
    "    html.Div([\n",
    "        html.Label(\"Select a Recode Map or ICD-10 Code:\"),\n",
    "        dcc.Dropdown(\n",
    "            id='selection-dropdown',\n",
    "            options=[\n",
    "                {'label': 'Search by 358 Cause Recode', 'value': '358_cause_recode'},\n",
    "                {'label': 'Search by 113 Cause Recode', 'value': '113_cause_recode'},\n",
    "                {'label': 'Search by 39 Cause Recode', 'value': '39_cause_recode'},\n",
    "                {'label': 'Search by ICD-10 Code', 'value': 'icd10'}\n",
    "            ],\n",
    "            placeholder=\"Select or search...\"\n",
    "        ),\n",
    "        dcc.Input(\n",
    "            id='icd10-input',\n",
    "            type='text',\n",
    "            placeholder='Enter ICD-10 Code (e.g., K566)',\n",
    "            style={'marginTop': '10px', 'display': 'none'}  # Hidden by default\n",
    "        )\n",
    "    ], style={'width': '50%', 'margin': '20px auto'}),\n",
    "    \n",
    "    # DataTable for displaying results\n",
    "    html.Div([\n",
    "        dash_table.DataTable(\n",
    "            id='mapping-table',\n",
    "            columns=[{\"name\": col, \"id\": col} for col in mort_data.columns],\n",
    "            style_table={'overflowX': 'auto'},\n",
    "            style_cell={'textAlign': 'left', 'minWidth': '100px', 'width': '100px', 'maxWidth': '100px'},\n",
    "        )\n",
    "    ], style={'margin': '20px auto', 'width': '80%'}),\n",
    "    \n",
    "    # Sankey diagram for visualization\n",
    "    html.Div([\n",
    "        dcc.Graph(id='sankey-diagram')\n",
    "    ], style={'margin': '20px auto', 'width': '80%'})\n",
    "])\n",
    "\n",
    "# Callbacks for interactivity\n",
    "from dash.exceptions import PreventUpdate\n",
    "\n",
    "@app.callback(\n",
    "    [Output('icd10-input', 'style'), Output('mapping-table', 'data')],\n",
    "    [Input('selection-dropdown', 'value'), Input('icd10-input', 'value')]\n",
    ")\n",
    "def update_table(selection, lookup_value):\n",
    "    # Show/hide the ICD-10 input field based on the dropdown selection\n",
    "    icd10_style = {'marginTop': '10px', 'display': 'none', 'width': '75%'}\n",
    "    filtered_data = mort_data\n",
    "\n",
    "    if selection:  # If a selection is made\n",
    "        icd10_style = {'marginTop': '10px', 'display': 'block', 'width': '75%'}\n",
    "        if lookup_value:\n",
    "            try:\n",
    "                if selection == 'icd10':\n",
    "                    # Filter by ICD-10 code\n",
    "                    filtered_data = mort_data[mort_data['icd10'] == lookup_value]\n",
    "                elif selection in ['358_cause_recode', '113_cause_recode', '39_cause_recode']:\n",
    "                    # Filter by recode value\n",
    "                    filtered_data = mort_data[mort_data[selection] == int(lookup_value)]\n",
    "            except ValueError:\n",
    "                # If a ValueError occurs, return an empty table with a warning message\n",
    "                return icd10_style, [{\"icd10\": \"Enter Valid Code\"}]\n",
    "    \n",
    "    return icd10_style, filtered_data.to_dict('records')\n",
    "\n",
    "\n",
    "@app.callback(\n",
    "    Output('sankey-diagram', 'figure'),\n",
    "    [Input('selection-dropdown', 'value'), Input('icd10-input', 'value')]\n",
    ")\n",
    "def update_sankey(selection, lookup_value):\n",
    "    if not selection or not lookup_value:\n",
    "        return go.Figure()\n",
    "\n",
    "    try:\n",
    "        # Filter the data based on the selection and lookup value\n",
    "        if selection == 'icd10':\n",
    "            filtered_data = mort_data[mort_data['icd10'] == lookup_value]\n",
    "        else:\n",
    "            filtered_data = mort_data[mort_data[selection] == int(lookup_value)]\n",
    "    except ValueError:\n",
    "        # Return an empty figure if the input is invalid\n",
    "        return go.Figure()\n",
    "\n",
    "    if filtered_data.empty:\n",
    "        return go.Figure()\n",
    "\n",
    "    # Prepare labels and mappings\n",
    "    icd10_labels = filtered_data['icd10'].tolist()\n",
    "    recode_358_labels = filtered_data['358_cause_recode'].astype(str).tolist()\n",
    "    recode_113_labels = filtered_data['113_cause_recode'].astype(str).tolist()\n",
    "    recode_39_labels = filtered_data['39_cause_recode'].astype(str).tolist()\n",
    "\n",
    "    labels = list(set(icd10_labels + recode_358_labels + recode_113_labels + recode_39_labels))\n",
    "    label_to_index = {label: i for i, label in enumerate(labels)}\n",
    "\n",
    "    sources, targets, values = [], [], []\n",
    "\n",
    "    # Map ICD-10 → 358 Cause Recode\n",
    "    for icd10, recode_358 in zip(icd10_labels, recode_358_labels):\n",
    "        sources.append(label_to_index[icd10])\n",
    "        targets.append(label_to_index[recode_358])\n",
    "        values.append(1)\n",
    "\n",
    "    # Map 358 → 113 Cause Recode\n",
    "    for recode_358, recode_113 in zip(recode_358_labels, recode_113_labels):\n",
    "        sources.append(label_to_index[recode_358])\n",
    "        targets.append(label_to_index[recode_113])\n",
    "        values.append(1)\n",
    "\n",
    "    # Map 113 → 39 Cause Recode\n",
    "    for recode_113, recode_39 in zip(recode_113_labels, recode_39_labels):\n",
    "        sources.append(label_to_index[recode_113])\n",
    "        targets.append(label_to_index[recode_39])\n",
    "        values.append(1)\n",
    "\n",
    "    # Create the Sankey diagram\n",
    "    sankey_fig = go.Figure(data=[go.Sankey(\n",
    "        node=dict(\n",
    "            pad=15,\n",
    "            thickness=20,\n",
    "            line=dict(color=\"black\", width=0.5),\n",
    "            label=labels,\n",
    "        ),\n",
    "        link=dict(\n",
    "            source=sources,\n",
    "            target=targets,\n",
    "            value=values,\n",
    "        )\n",
    "    )])\n",
    "\n",
    "    sankey_fig.update_layout(\n",
    "        title_text=f\"Mapping for {selection} Value: {lookup_value}\",\n",
    "        font_size=10\n",
    "    )\n",
    "    return sankey_fig\n",
    "\n",
    "# Run the app\n",
    "if __name__ == '__main__':\n",
    "    app.run_server(debug=True)\n"
   ]
  },
  {
   "cell_type": "markdown",
   "metadata": {},
   "source": [
    "The meaning of each code can be found at https://ftp.cdc.gov/pub/Health_Statistics/NCHS/Dataset_Documentation/DVS/mortality/2022-Mortality-Public-Use-File-Documentation.pdf, but I'm going to map the names of these recode schema."
   ]
  },
  {
   "cell_type": "code",
   "execution_count": 28,
   "metadata": {},
   "outputs": [],
   "source": [
    "# Create names map of 358 cause recode\n",
    "recode_358_map = pd.read_csv('./recodeMaps/358recodeMap.csv')\n",
    "recode_358_dict = dict(zip(recode_358_map['key'], recode_358_map['value']))\n",
    "\n",
    "# Create names map of 113 cause recode\n",
    "recode_113_map = pd.read_csv('./recodeMaps/113recodeMap.csv')\n",
    "recode_113_dict = dict(zip(recode_113_map['key'], recode_113_map['value']))\n",
    "\n",
    "# Create names map of 39 cause recode\n",
    "recode_39_map = pd.read_csv('./recodeMaps/39recodeMap.csv')\n",
    "recode_39_dict = dict(zip(recode_39_map['key'], recode_39_map['value']))"
   ]
  },
  {
   "cell_type": "markdown",
   "metadata": {},
   "source": [
    "Now that we have our value maps, let's create a dataframe with total number of U.S. deaths in 2022 by icd10, 358_cause_recode, 113_cause_recode, and 39_cause_recode."
   ]
  },
  {
   "cell_type": "code",
   "execution_count": 10,
   "metadata": {},
   "outputs": [
    {
     "name": "stdout",
     "output_type": "stream",
     "text": [
      "  icd10  358_cause_recode  113_cause_recode  39_cause_recode    count\n",
      "0  K566               293               111               37   6137.0\n",
      "1   I64               238                70               24  47111.0\n",
      "2  C189                81                23                6  35935.0\n",
      "3  K767               301               111               37    509.0\n",
      "4  E785               173               111               37  15615.0\n",
      "shape of mort_codes: (5269, 5)\n",
      "shape of mort_2022: (3289569, 4)\n",
      "sum of mort_codes: 3289581.0\n",
      "sum of mort_2022: 3289569\n"
     ]
    }
   ],
   "source": [
    "# Load the CSV data\n",
    "mort_2022 = pd.read_csv('mort2022_cleaned.csv', usecols=['icd10', '39_cause_recode', '113_cause_recode', '358_cause_recode'])\n",
    "mort_codes = pd.read_csv(\"mort_codes_all.csv\")\n",
    "\n",
    "# Add column in mort_codes called 'count' that counts the number of rows in mort_2022 with a matching icd10 code\n",
    "mort_codes['count'] = mort_codes['icd10'].map(mort_2022['icd10'].value_counts())\n",
    "\n",
    "# Print first 5 rows of mort_codes_all\n",
    "print(mort_codes.head())\n",
    "\n",
    "# Print shape of mort_codes_all\n",
    "print(\"shape of mort_codes:\", mort_codes.shape)\n",
    "print(\"shape of mort_2022:\", mort_2022.shape)\n",
    "\n",
    "# Print sum of count column\n",
    "print(\"sum of mort_codes:\", mort_codes['count'].sum())\n",
    "print(\"sum of mort_2022:\", mort_2022.shape[0])"
   ]
  },
  {
   "cell_type": "markdown",
   "metadata": {},
   "source": [
    "There is a slight discrepancy in the respective sums of our base 2022 mortality data and unique codes, but its 99.9996% alignment is sufficient for our present purposes.\n",
    "\n",
    "Now, I'll add additional columns withour mapped schema names. "
   ]
  },
  {
   "cell_type": "code",
   "execution_count": 23,
   "metadata": {},
   "outputs": [
    {
     "name": "stdout",
     "output_type": "stream",
     "text": [
      "  icd10  358_cause_recode  113_cause_recode  39_cause_recode    count  \\\n",
      "0  K566               293               111               37   6137.0   \n",
      "1   I64               238                70               24  47111.0   \n",
      "2  C189                81                23                6  35935.0   \n",
      "3  K767               301               111               37    509.0   \n",
      "4  E785               173               111               37  15615.0   \n",
      "\n",
      "                               358_cause_recode_name  \\\n",
      "0  Vascular disorders and obstruction of intestin...   \n",
      "1  Stroke, not specified as hemorrhage or infarct...   \n",
      "2                                        Colon (C18)   \n",
      "3         Other diseases of liver (K7l-K72, K75-K76)   \n",
      "4      Other metabolic disorders (E70-E83, E85, E88)   \n",
      "\n",
      "                               113_cause_recode_name  \n",
      "0  All other diseases (Residual) (D65-E07,E15-E34...  \n",
      "1                 Cerebrovascular diseases (I60-I69)  \n",
      "2  Malignant neoplasms of colon, rectum and anus ...  \n",
      "3  All other diseases (Residual) (D65-E07,E15-E34...  \n",
      "4  All other diseases (Residual) (D65-E07,E15-E34...  \n"
     ]
    }
   ],
   "source": [
    "#print first 5 rows of mort_2022\n",
    "print(mort_codes.head())"
   ]
  },
  {
   "cell_type": "code",
   "execution_count": 31,
   "metadata": {},
   "outputs": [
    {
     "name": "stdout",
     "output_type": "stream",
     "text": [
      "  icd10  358_cause_recode  113_cause_recode  39_cause_recode    count  \\\n",
      "0  K566               293               111               37   6137.0   \n",
      "1   I64               238                70               24  47111.0   \n",
      "2  C189                81                23                6  35935.0   \n",
      "3  K767               301               111               37    509.0   \n",
      "4  E785               173               111               37  15615.0   \n",
      "\n",
      "                               358_cause_recode_name  \\\n",
      "0  Vascular disorders and obstruction of intestin...   \n",
      "1  Stroke, not specified as hemorrhage or infarct...   \n",
      "2                                        Colon (C18)   \n",
      "3         Other diseases of liver (K7l-K72, K75-K76)   \n",
      "4      Other metabolic disorders (E70-E83, E85, E88)   \n",
      "\n",
      "                               113_cause_recode_name  \\\n",
      "0  All other diseases (Residual) (D65-E07,E15-E34...   \n",
      "1                 Cerebrovascular diseases (I60-I69)   \n",
      "2  Malignant neoplasms of colon, rectum and anus ...   \n",
      "3  All other diseases (Residual) (D65-E07,E15-E34...   \n",
      "4  All other diseases (Residual) (D65-E07,E15-E34...   \n",
      "\n",
      "                                39_cause_recode_name  \n",
      "0  All other diseases (Residual) (A00-A09,A20-A49...  \n",
      "1                 Cerebrovascular diseases (I60-I69)  \n",
      "2  Malignant neoplasms of colon, rectum and anus ...  \n",
      "3  All other diseases (Residual) (A00-A09,A20-A49...  \n",
      "4  All other diseases (Residual) (A00-A09,A20-A49...  \n"
     ]
    }
   ],
   "source": [
    "# Add columns to mort_codes for 358, 113, and 39 cause recode names\n",
    "mort_codes['358_cause_recode_name'] = mort_codes['358_cause_recode'].map(recode_358_dict)\n",
    "mort_codes['113_cause_recode_name'] = mort_codes['113_cause_recode'].map(recode_113_dict)\n",
    "mort_codes['39_cause_recode_name'] = mort_codes['39_cause_recode'].map(recode_39_dict)\n",
    "\n",
    "# Print first 5 rows of mort_codes\n",
    "print(mort_codes.head())\n",
    "\n",
    "# Export to CSV\n",
    "mort_codes.to_csv('./outputs/usMortality_2022.csv', index=False)"
   ]
  },
  {
   "cell_type": "markdown",
   "metadata": {},
   "source": [
    "Nice. Ok, now to repeat the process for 2016-2021, I'll create a function to loop through the years of our data and output a corresponding mortality file."
   ]
  },
  {
   "cell_type": "code",
   "execution_count": null,
   "metadata": {},
   "outputs": [],
   "source": [
    "def process_year(year):\n",
    "    # Load the CSV data for the given year\n",
    "    mort_year = pd.read_csv(f'mort{year}_cleaned.csv', usecols=['icd10', '39_cause_recode', '113_cause_recode', '358_cause_recode'])\n",
    "    \n",
    "    # Reload mort_codes\n",
    "    mort_codes = pd.read_csv(\"mort_codes_all.csv\")\n",
    "\n",
    "    # Add column in mort_codes called 'count' that counts the number of rows in mort_year with a matching icd10 code\n",
    "    mort_codes['count'] = mort_codes['icd10'].map(mort_year['icd10'].value_counts())\n",
    "    \n",
    "    # Add columns to mort_codes for 358, 113, and 39 cause recode names\n",
    "    mort_codes['358_cause_recode_name'] = mort_codes['358_cause_recode'].map(recode_358_dict)\n",
    "    mort_codes['113_cause_recode_name'] = mort_codes['113_cause_recode'].map(recode_113_dict)\n",
    "    mort_codes['39_cause_recode_name'] = mort_codes['39_cause_recode'].map(recode_39_dict)\n",
    "    \n",
    "    # Export to CSV\n",
    "    mort_codes.to_csv(f'./outputs/usMortality_{year}.csv', index=False)\n",
    "\n",
    "# Process each year from 2016 to 2021\n",
    "for year in range(2016, 2022):\n",
    "    process_year(year)"
   ]
  },
  {
   "cell_type": "markdown",
   "metadata": {},
   "source": [
    "Several analyses will follow, but for now, I will leverage the fantastic work of data sculptor Vasco Asturiano (https://github.com/vasturiano/sunburst-chart) and put the 2022 data into a zoomable sunburst chart.\n",
    "\n",
    "To do this, I need to convert my dataframe into the requisite .json file for this visualization."
   ]
  },
  {
   "cell_type": "code",
   "execution_count": null,
   "metadata": {},
   "outputs": [
    {
     "name": "stdout",
     "output_type": "stream",
     "text": [
      "Cleaned JSON data has been saved to ./outputs/usMortality_2022b.json\n"
     ]
    }
   ],
   "source": [
    "import pandas as pd\n",
    "import json\n",
    "\n",
    "# Load the data\n",
    "data = pd.read_csv('./outputs/usMortality_2022.csv')\n",
    "\n",
    "# Remove rows with NaN or zero in the 'count' column\n",
    "data = data.dropna(subset=['count'])  # Remove rows with NaN in 'count'\n",
    "data = data[data['count'] > 0]        # Remove rows with zero or negative counts\n",
    "\n",
    "# Function to build the hierarchical structure\n",
    "def build_hierarchy(data):\n",
    "    hierarchy = []\n",
    "    grouped_39 = data.groupby('39_cause_recode_name')\n",
    "\n",
    "    for name_39, group_39 in grouped_39:\n",
    "        node_39 = {\n",
    "            \"name\": f\"{name_39}\",\n",
    "            \"children\": []\n",
    "        }\n",
    "        grouped_113 = group_39.groupby('113_cause_recode_name')\n",
    "\n",
    "        for name_113, group_113 in grouped_113:\n",
    "            node_113 = {\n",
    "                \"name\": f\"{name_113}\",\n",
    "                \"children\": []\n",
    "            }\n",
    "            grouped_358 = group_113.groupby('358_cause_recode_name')\n",
    "\n",
    "            for name_358, group_358 in grouped_358:\n",
    "                node_358 = {\n",
    "                    \"name\": f\"{name_358}\",\n",
    "                    \"children\": []\n",
    "                }\n",
    "                for _, row in group_358.iterrows():\n",
    "                    node_358[\"children\"].append({\n",
    "                        \"name\": row[\"icd10\"],\n",
    "                        \"size\": row[\"count\"]\n",
    "                    })\n",
    "                node_113[\"children\"].append(node_358)\n",
    "            node_39[\"children\"].append(node_113)\n",
    "        hierarchy.append(node_39)\n",
    "    return hierarchy\n",
    "\n",
    "# Build the hierarchy\n",
    "hierarchy_data = {\n",
    "    \"name\": \"2022 U.S. Deaths\",\n",
    "    \"children\": build_hierarchy(data)\n",
    "}\n",
    "\n",
    "# Save to a JSON file\n",
    "output_file = './outputs/usMortality_2022b.json'\n",
    "with open(output_file, 'w') as f:\n",
    "    json.dump(hierarchy_data, f, indent=4)\n",
    "\n",
    "print(f\"Cleaned JSON data has been saved to {output_file}\")"
   ]
  },
  {
   "cell_type": "markdown",
   "metadata": {},
   "source": [
    "I plugged it in and... TADAAAAA!!!\n",
    "\n",
    "https://dataforpublichealth.digital/d3/sunburst/nchs-mortality-2022/index.html"
   ]
  }
 ],
 "metadata": {
  "kernelspec": {
   "display_name": "Python 3",
   "language": "python",
   "name": "python3"
  },
  "language_info": {
   "codemirror_mode": {
    "name": "ipython",
    "version": 3
   },
   "file_extension": ".py",
   "mimetype": "text/x-python",
   "name": "python",
   "nbconvert_exporter": "python",
   "pygments_lexer": "ipython3",
   "version": "3.12.6"
  }
 },
 "nbformat": 4,
 "nbformat_minor": 2
}
